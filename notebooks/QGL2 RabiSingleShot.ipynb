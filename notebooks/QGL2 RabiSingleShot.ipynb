{
 "cells": [
  {
   "cell_type": "markdown",
   "metadata": {
    "collapsed": true
   },
   "source": [
    "# Compiling a QGL2 Rabi SingleShot and plotting the output"
   ]
  },
  {
   "cell_type": "code",
   "execution_count": null,
   "metadata": {},
   "outputs": [],
   "source": [
    "from pyqgl2.main import compile_function, qgl2_compile_to_hardware\n",
    "from pyqgl2.test_cl import create_default_channelLibrary\n",
    "from pyqgl2.qreg import QRegister\n",
    "from QGL import plot_pulse_files, ChannelLibrary"
   ]
  },
  {
   "cell_type": "code",
   "execution_count": null,
   "metadata": {},
   "outputs": [],
   "source": [
    "# Compile to hardware or just to QGL pulse sequence?\n",
    "toHW = False\n",
    "# Create a test library (or load one)\n",
    "create_default_channelLibrary(toHW, True)"
   ]
  },
  {
   "cell_type": "markdown",
   "metadata": {
    "collapsed": true
   },
   "source": [
    "## Compile QGL2 to QGL1"
   ]
  },
  {
   "cell_type": "markdown",
   "metadata": {},
   "source": [
    "### To turn on debug output, uncomment the next 4 lines"
   ]
  },
  {
   "cell_type": "code",
   "execution_count": null,
   "metadata": {},
   "outputs": [],
   "source": [
    "# from pyqgl2.ast_util import NodeError\n",
    "# from pyqgl2.debugmsg import DebugMsg\n",
    "\n",
    "# DebugMsg.set_level(1)\n",
    "# NodeError.MUTE_ERR_LEVEL = NodeError.NODE_ERROR_NONE"
   ]
  },
  {
   "cell_type": "markdown",
   "metadata": {},
   "source": [
    "### Generate a list of the arguments to the QGL2 function"
   ]
  },
  {
   "cell_type": "code",
   "execution_count": null,
   "metadata": {},
   "outputs": [],
   "source": [
    "qr = QRegister('q1')\n",
    "args=(qr,)"
   ]
  },
  {
   "cell_type": "code",
   "execution_count": null,
   "metadata": {
    "scrolled": true
   },
   "outputs": [],
   "source": [
    "# Insert proper path to QGL2 source and name of qgl2main if not so marked\n",
    "# Here we compile the named function in the named file from QGL2 to QGL1 and return the new function\n",
    "# True argument means save the QGL1 compiled function to a file\n",
    "qgl1MainFunc = compile_function(\"../src/python/qgl2/basic_sequences/Rabi.py\", \"SingleShot\", args, saveOutput=True)"
   ]
  },
  {
   "cell_type": "markdown",
   "metadata": {},
   "source": [
    "## Generate pulse sequences"
   ]
  },
  {
   "cell_type": "code",
   "execution_count": null,
   "metadata": {},
   "outputs": [],
   "source": [
    "# Now run the QGL1 function, producing a list of sequences\n",
    "# QGL2 to QGL1 compiled functions take no arguments\n",
    "seqs = qgl1MainFunc()"
   ]
  },
  {
   "cell_type": "markdown",
   "metadata": {},
   "source": [
    "### Optional: Enable debug logging in compiler"
   ]
  },
  {
   "cell_type": "code",
   "execution_count": null,
   "metadata": {},
   "outputs": [],
   "source": [
    "# import logging\n",
    "# from QGL.Compiler import set_log_level\n",
    "# # By default, uses custom log format at DEBUG\n",
    "# set_log_level(loggerName='QGL.Compiler', levelDesired=logging.DEBUG)"
   ]
  },
  {
   "cell_type": "markdown",
   "metadata": {
    "collapsed": true
   },
   "source": [
    "## Optionally compile to machine instructions"
   ]
  },
  {
   "cell_type": "code",
   "execution_count": null,
   "metadata": {
    "scrolled": false
   },
   "outputs": [],
   "source": [
    "if toHW:\n",
    "    metaFileName = qgl2_compile_to_hardware(seqs, \"SingleShot/SingleShot\")\n",
    "    print(f\"Generated sequence details in '{metaFileName}'\")\n",
    "    # Plot the sequences\n",
    "    display(plot_pulse_files(metaFileName))\n",
    "else:\n",
    "    from QGL.Scheduler import schedule\n",
    "    from IPython.lib.pretty import pretty\n",
    "    print(pretty(schedule(seqs)))"
   ]
  }
 ],
 "metadata": {
  "kernelspec": {
   "display_name": "Python 3",
   "language": "python",
   "name": "python3"
  },
  "language_info": {
   "codemirror_mode": {
    "name": "ipython",
    "version": 3
   },
   "file_extension": ".py",
   "mimetype": "text/x-python",
   "name": "python",
   "nbconvert_exporter": "python",
   "pygments_lexer": "ipython3",
   "version": "3.7.3"
  }
 },
 "nbformat": 4,
 "nbformat_minor": 1
}
