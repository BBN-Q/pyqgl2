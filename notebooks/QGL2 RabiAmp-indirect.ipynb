{
 "cells": [
  {
   "cell_type": "markdown",
   "metadata": {
    "collapsed": true
   },
   "source": [
    "# Sample notebook running a previously compiled QGL2 program"
   ]
  },
  {
   "cell_type": "code",
   "execution_count": null,
   "metadata": {},
   "outputs": [],
   "source": [
    "import QGL\n",
    "from QGL.Compiler import compile_to_hardware\n",
    "from QGL.Scheduler import schedule\n",
    "from QGL.PulseSequencePlotter import plot_pulse_files\n",
    "from pyqgl2.test_cl import create_default_channelLibrary\n",
    "\n",
    "# This next should be a valid import of a compiled QGL2 program and its qgl2main\n",
    "# EG do the compilation manually with -o and put it in the right spot\n",
    "from RabiAmpqgl1 import RabiAmp"
   ]
  },
  {
   "cell_type": "markdown",
   "metadata": {},
   "source": [
    "### Create a test ChannelLibrary"
   ]
  },
  {
   "cell_type": "code",
   "execution_count": null,
   "metadata": {},
   "outputs": [],
   "source": [
    "create_default_channelLibrary(True, True)\n",
    "# Alternatively could load an existing library, or create one here; see the 'AllXY' notebook"
   ]
  },
  {
   "cell_type": "markdown",
   "metadata": {
    "collapsed": true
   },
   "source": [
    "## Generate pulse sequences"
   ]
  },
  {
   "cell_type": "code",
   "execution_count": null,
   "metadata": {},
   "outputs": [],
   "source": [
    "# Now run the QGL1 function as before, producing a list of sequences\n",
    "seqs = RabiAmp()"
   ]
  },
  {
   "cell_type": "code",
   "execution_count": null,
   "metadata": {},
   "outputs": [],
   "source": [
    "# Note we cannot provide the correct axis description without knowing the amplitudes used\n",
    "# Note we schedule the sequences and ensure they are a list\n",
    "metaFileName = compile_to_hardware([schedule(seqs)], \"Rabi/Rabi\")\n",
    "print(f\"Generated sequence details in '{metaFileName}'\")"
   ]
  },
  {
   "cell_type": "markdown",
   "metadata": {},
   "source": [
    "## Plot the sequences"
   ]
  },
  {
   "cell_type": "code",
   "execution_count": null,
   "metadata": {},
   "outputs": [],
   "source": [
    "display(plot_pulse_files(metaFileName))"
   ]
  }
 ],
 "metadata": {
  "kernelspec": {
   "display_name": "Python 3",
   "language": "python",
   "name": "python3"
  },
  "language_info": {
   "codemirror_mode": {
    "name": "ipython",
    "version": 3
   },
   "file_extension": ".py",
   "mimetype": "text/x-python",
   "name": "python",
   "nbconvert_exporter": "python",
   "pygments_lexer": "ipython3",
   "version": "3.7.3"
  }
 },
 "nbformat": 4,
 "nbformat_minor": 1
}
