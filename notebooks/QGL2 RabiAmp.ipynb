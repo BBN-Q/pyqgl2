{
 "cells": [
  {
   "cell_type": "markdown",
   "metadata": {},
   "source": [
    "# Compiling a QGL2 RabiAmp and plotting the output"
   ]
  },
  {
   "cell_type": "code",
   "execution_count": 22,
   "metadata": {},
   "outputs": [],
   "source": [
    "# Using phase=0, amp from 0 -> 1 stepping by 0.1"
   ]
  },
  {
   "cell_type": "markdown",
   "metadata": {},
   "source": [
    "### Imports"
   ]
  },
  {
   "cell_type": "code",
   "execution_count": 23,
   "metadata": {},
   "outputs": [],
   "source": [
    "from pyqgl2.main import compile_function, qgl2_compile_to_hardware\n",
    "from pyqgl2.test_cl import create_default_channelLibrary\n",
    "from pyqgl2.qreg import QRegister\n",
    "from QGL import plot_pulse_files, ChannelLibrary\n",
    "import numpy as np"
   ]
  },
  {
   "cell_type": "markdown",
   "metadata": {},
   "source": [
    "### Create a test ChannelLibrary"
   ]
  },
  {
   "cell_type": "code",
   "execution_count": 24,
   "metadata": {},
   "outputs": [],
   "source": [
    "create_default_channelLibrary(True, True)\n",
    "# Alternatively could load an existing library, or create one here; see the 'AllXY' notebook"
   ]
  },
  {
   "cell_type": "markdown",
   "metadata": {},
   "source": [
    "## Create needed qubit(s)"
   ]
  },
  {
   "cell_type": "code",
   "execution_count": 25,
   "metadata": {},
   "outputs": [],
   "source": [
    "# For QGL2, use a QRegister, not a QGL Qubit\n",
    "q = QRegister(1)"
   ]
  },
  {
   "cell_type": "markdown",
   "metadata": {},
   "source": [
    "## Compile to QGL1"
   ]
  },
  {
   "cell_type": "code",
   "execution_count": 26,
   "metadata": {},
   "outputs": [],
   "source": [
    "# Insert proper path to QGL2 source and name of qgl2main if not so marked\n",
    "# Here we compile the named function in the named file from QGL2 to QGL1 and return the new functio"
   ]
  },
  {
   "cell_type": "code",
   "execution_count": 27,
   "metadata": {
    "scrolled": true
   },
   "outputs": [
    {
     "name": "stdout",
     "output_type": "stream",
     "text": [
      "\n",
      "\n",
      "COMPILING [../src/python/qgl2/basic_sequences/Rabi.py] main RabiAmp\n",
      "2019-09-26 11:50:08.300694: CALLING IMPORTER\n",
      "../src/python/qgl2/basic_sequences/Rabi.py:188:4: warning: conditional/runtime import [from pyqgl2.qreg import QRegister] ignored by pyqgl2\n",
      "../src/python/qgl2/basic_sequences/Rabi.py:189:4: warning: conditional/runtime import [import pyqgl2.test_cl] ignored by pyqgl2\n",
      "../src/python/qgl2/basic_sequences/Rabi.py:190:4: warning: conditional/runtime import [from pyqgl2.main import compile_function\n",
      "from pyqgl2.main import qgl2_compile_to_hardware] ignored by pyqgl2\n",
      "../src/python/qgl2/basic_sequences/Rabi.py:191:4: warning: conditional/runtime import [import numpy as np] ignored by pyqgl2\n",
      "../src/python/qgl2/basic_sequences/Rabi.py:192:4: warning: conditional/runtime import [import QGL.PulseShapes] ignored by pyqgl2\n",
      "../src/python/qgl2/basic_sequences/Rabi.py:290:12: warning: conditional/runtime import [from QGL.Scheduler import schedule] ignored by pyqgl2\n",
      "../src/python/qgl2/basic_sequences/Rabi.py:293:12: warning: conditional/runtime import [from IPython.lib.pretty import pretty] ignored by pyqgl2\n",
      "../src/python/qgl2/basic_sequences/Rabi.py:285:16: warning: conditional/runtime import [from QGL.PulseSequencePlotter import plot_pulse_files] ignored by pyqgl2\n",
      "2019-09-26 11:50:08.365738: CALLING INLINER\n",
      "2019-09-26 11:50:08.365983: ITERATION 0\n",
      "2019-09-26 11:50:08.367424: ITERATION 1\n",
      "2019-09-26 11:50:08.368372: CALLING EVALUATOR\n",
      "2019-09-26 11:50:08.373181: CALLING FLATTENER\n",
      "2019-09-26 11:50:08.373489: GENERATING QGL1 SEQUENCE FUNCTION\n",
      "Saved compiled code to /home/ahelsing/machome/Projects/Quantum/pyqgl2/src/python/qgl2/basic_sequences/Rabiqgl1.py\n"
     ]
    }
   ],
   "source": [
    "rAmpAmps = np.linspace(0, 1, 1)\n",
    "qgl1MainFunc = compile_function(\"../src/python/qgl2/basic_sequences/Rabi.py\", \"RabiAmp\", (q, rAmpAmps, 0), saveOutput=True)"
   ]
  },
  {
   "cell_type": "markdown",
   "metadata": {},
   "source": [
    "## Generate pulse sequences"
   ]
  },
  {
   "cell_type": "code",
   "execution_count": 28,
   "metadata": {},
   "outputs": [],
   "source": [
    "# Now run the QGL1 function, producing a list of sequences\n",
    "seqs = qgl1MainFunc()"
   ]
  },
  {
   "cell_type": "markdown",
   "metadata": {
    "collapsed": true
   },
   "source": [
    "## Compile to machine instructions"
   ]
  },
  {
   "cell_type": "code",
   "execution_count": 29,
   "metadata": {},
   "outputs": [
    {
     "name": "stdout",
     "output_type": "stream",
     "text": [
      "Compiled 1 sequences.\n",
      "Generated sequence details in '/tmp/AWGpj4dtdnh/Rabi/Rabi-meta.json'\n"
     ]
    }
   ],
   "source": [
    "from qgl2.basic_sequences.helpers import delay_descriptor, cal_descriptor\n",
    "axis_desc = [{\n",
    "            'name': 'amplitude',\n",
    "            'unit': None,\n",
    "            'points': list(rAmpAmps),\n",
    "            'partition': 1\n",
    "        }]\n",
    "label = \"Rabi\"\n",
    "\n",
    "metaFileName = qgl2_compile_to_hardware(seqs, filename=f\"{label}/{label}\", axis_descriptor=axis_desc)\n",
    "print(f\"Generated sequence details in '{metaFileName}'\")"
   ]
  },
  {
   "cell_type": "markdown",
   "metadata": {},
   "source": [
    "## Plot the sequences"
   ]
  },
  {
   "cell_type": "code",
   "execution_count": 30,
   "metadata": {
    "scrolled": true
   },
   "outputs": [
    {
     "name": "stdout",
     "output_type": "stream",
     "text": [
      "Sampling rate from extract_waveforms 1200000000.0\n",
      "Sampling rate from extract_waveforms 1200000000.0\n"
     ]
    },
    {
     "data": {
      "application/vnd.jupyter.widget-view+json": {
       "model_id": "21712ef20433491e82aaf7c8f7d855bc",
       "version_major": 2,
       "version_minor": 0
      },
      "text/plain": [
       "VBox(children=(IntSlider(value=1, description='Segment', max=1, min=1), Figure(animation_duration=50, axes=[Ax…"
      ]
     },
     "metadata": {},
     "output_type": "display_data"
    }
   ],
   "source": [
    "p = plot_pulse_files(metaFileName)\n",
    "# Explicitly display the graph which fails to auto-draw in some cases\n",
    "display(p)"
   ]
  }
 ],
 "metadata": {
  "kernelspec": {
   "display_name": "Python 3",
   "language": "python",
   "name": "python3"
  },
  "language_info": {
   "codemirror_mode": {
    "name": "ipython",
    "version": 3
   },
   "file_extension": ".py",
   "mimetype": "text/x-python",
   "name": "python",
   "nbconvert_exporter": "python",
   "pygments_lexer": "ipython3",
   "version": "3.7.3"
  }
 },
 "nbformat": 4,
 "nbformat_minor": 1
}
