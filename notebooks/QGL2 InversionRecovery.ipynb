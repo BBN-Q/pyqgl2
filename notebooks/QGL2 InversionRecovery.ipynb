{
 "cells": [
  {
   "cell_type": "markdown",
   "metadata": {
    "collapsed": true
   },
   "source": [
    "# Compiling a QGL2 InversionRecovery and plotting the output"
   ]
  },
  {
   "cell_type": "markdown",
   "metadata": {},
   "source": [
    "## Imports"
   ]
  },
  {
   "cell_type": "code",
   "execution_count": null,
   "metadata": {},
   "outputs": [],
   "source": [
    "from pyqgl2.main import compile_function, qgl2_compile_to_hardware\n",
    "from pyqgl2.test_cl import create_default_channelLibrary\n",
    "from pyqgl2.qreg import QRegister\n",
    "from QGL import plot_pulse_files, ChannelLibrary\n",
    "import numpy as np"
   ]
  },
  {
   "cell_type": "markdown",
   "metadata": {},
   "source": [
    "### Should sequences be compiled to hardware, or just to QGL?"
   ]
  },
  {
   "cell_type": "code",
   "execution_count": null,
   "metadata": {},
   "outputs": [],
   "source": [
    "toHW = True\n",
    "# Append suffix to filenames?\n",
    "suffix = True"
   ]
  },
  {
   "cell_type": "markdown",
   "metadata": {},
   "source": [
    "### Create a test ChannelLibrary"
   ]
  },
  {
   "cell_type": "code",
   "execution_count": null,
   "metadata": {},
   "outputs": [],
   "source": [
    "create_default_channelLibrary(toHW, True)\n",
    "# Alternatively could load an existing library, or create one here; see the 'AllXY' notebook"
   ]
  },
  {
   "cell_type": "markdown",
   "metadata": {},
   "source": [
    "## Create needed qubit(s)"
   ]
  },
  {
   "cell_type": "code",
   "execution_count": null,
   "metadata": {},
   "outputs": [],
   "source": [
    "# For QGL2, use a QRegister, not a QGL Qubit\n",
    "q = QRegister(1)"
   ]
  },
  {
   "cell_type": "markdown",
   "metadata": {
    "collapsed": true
   },
   "source": [
    "## Compile to QGL1"
   ]
  },
  {
   "cell_type": "code",
   "execution_count": null,
   "metadata": {},
   "outputs": [],
   "source": [
    "# Insert proper path to QGL2 source and name of qgl2main if not so marked\n",
    "# Here we compile the named function in the named file from QGL2 to QGL1 and return the new function"
   ]
  },
  {
   "cell_type": "code",
   "execution_count": null,
   "metadata": {
    "scrolled": true
   },
   "outputs": [],
   "source": [
    "irDelays = np.linspace(0, 5e-6, 11)\n",
    "tCalR = 2\n",
    "qgl1MainFunc = compile_function(\"../src/python/qgl2/basic_sequences/T1T2.py\", \"InversionRecovery\", (q, irDelays, tCalR))"
   ]
  },
  {
   "cell_type": "markdown",
   "metadata": {},
   "source": [
    "## Generate pulse sequences"
   ]
  },
  {
   "cell_type": "code",
   "execution_count": null,
   "metadata": {},
   "outputs": [],
   "source": [
    "# Now run the QGL1 function, producing a list of sequences\n",
    "seqs = qgl1MainFunc()"
   ]
  },
  {
   "cell_type": "markdown",
   "metadata": {
    "collapsed": true
   },
   "source": [
    "## Optionally compile to machine instructions"
   ]
  },
  {
   "cell_type": "code",
   "execution_count": null,
   "metadata": {},
   "outputs": [],
   "source": [
    "if toHW:\n",
    "    from qgl2.basic_sequences.helpers import delay_descriptor, cal_descriptor\n",
    "    axis_desc = [\n",
    "            delay_descriptor(irDelays),\n",
    "            cal_descriptor(('qubit',), tCalR)\n",
    "            ]\n",
    "    label = \"T1\"\n",
    "    # Generate proper filenames; for these, it isn't just the label T1\n",
    "    # T1T2 QGL functions take a suffix boolean default false. If true, then append to label \"_qubit.label\"; ie \"_q1\"\n",
    "    if suffix:\n",
    "        label = label + \"_q1\"\n",
    "    \n",
    "    metaFileName = qgl2_compile_to_hardware(seqs, filename=f\"{label}/{label}\", axis_descriptor=axis_desc)\n",
    "    print(f\"Generated sequence details in '{metaFileName}'\")\n",
    "    # Plot the sequences\n",
    "    p = plot_pulse_files(metaFileName)\n",
    "    # Explicitly display the graph which fails to auto-draw in some cases\n",
    "    display(p)\n",
    "else:\n",
    "    from QGL.Scheduler import schedule\n",
    "    from IPython.lib.pretty import pretty\n",
    "    print(pretty(schedule(seqs)))"
   ]
  }
 ],
 "metadata": {
  "kernelspec": {
   "display_name": "Python 3",
   "language": "python",
   "name": "python3"
  },
  "language_info": {
   "codemirror_mode": {
    "name": "ipython",
    "version": 3
   },
   "file_extension": ".py",
   "mimetype": "text/x-python",
   "name": "python",
   "nbconvert_exporter": "python",
   "pygments_lexer": "ipython3",
   "version": "3.7.3"
  }
 },
 "nbformat": 4,
 "nbformat_minor": 1
}
