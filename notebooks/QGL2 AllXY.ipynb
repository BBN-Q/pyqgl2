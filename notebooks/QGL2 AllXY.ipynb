{
 "cells": [
  {
   "cell_type": "markdown",
   "metadata": {
    "collapsed": true
   },
   "source": [
    "# Compiling a QGL2 AllXY and plotting the output"
   ]
  },
  {
   "cell_type": "markdown",
   "metadata": {},
   "source": [
    "## Imports"
   ]
  },
  {
   "cell_type": "code",
   "execution_count": null,
   "metadata": {},
   "outputs": [],
   "source": [
    "from pyqgl2.main import compile_function, qgl2_compile_to_hardware\n",
    "from pyqgl2.test_cl import create_default_channelLibrary\n",
    "from pyqgl2.qreg import QRegister\n",
    "from QGL import plot_pulse_files, ChannelLibrary"
   ]
  },
  {
   "cell_type": "markdown",
   "metadata": {},
   "source": [
    "### Should sequences be compiled to hardware, or just to QGL?"
   ]
  },
  {
   "cell_type": "code",
   "execution_count": null,
   "metadata": {},
   "outputs": [],
   "source": [
    "toHW = True"
   ]
  },
  {
   "cell_type": "markdown",
   "metadata": {},
   "source": [
    "### Create a test ChannelLibrary; alternatively, load a library you already defined"
   ]
  },
  {
   "cell_type": "code",
   "execution_count": null,
   "metadata": {},
   "outputs": [],
   "source": [
    "create_default_channelLibrary(toHW, True)\n",
    "\n",
    "# Or create a new ChannelLibrary with channels\n",
    "# cl = ChannelLibrary(db_resource_name=\":memory:\")\n",
    "# q1 = cl.new_qubit('q1')\n",
    "\n",
    "# Most calls required label and address\n",
    "# aps2_1 = cl.new_APS2(\"BBNAPS1\", address=\"192.168.5.101\") \n",
    "# aps2_2 = cl.new_APS2(\"BBNAPS2\", address=\"192.168.5.102\")\n",
    "# dig_1  = cl.new_X6(\"X6_1\", address=0)\n",
    "\n",
    "# Label, instrument type, address, and an additional config parameter\n",
    "# h1 = cl.new_source(\"Holz1\", \"HolzworthHS9000\", \"HS9004A-009-1\", power=-30)\n",
    "# h2 = cl.new_source(\"Holz2\", \"HolzworthHS9000\", \"HS9004A-009-2\", power=-30)\n",
    "\n",
    "# Qubit q1 is controlled by AWG aps2_1, and uses microwave source h1\n",
    "# cl.set_control(q1, aps2_1, generator=h1)\n",
    "\n",
    "# Qubit q1 is measured by AWG aps2_2 and digitizer dig_1, and uses microwave source h2\n",
    "# cl.set_measure(q1, aps2_2, dig_1.ch(1), generator=h2)\n",
    "\n",
    "# The AWG aps2_1 is the master AWG, and distributes a synchronization trigger on its second marker channel\n",
    "# cl.set_master(aps2_1, aps2_1.ch(\"m2\"))\n",
    "# cl.commit()"
   ]
  },
  {
   "cell_type": "markdown",
   "metadata": {},
   "source": [
    "## Create needed qubit(s)"
   ]
  },
  {
   "cell_type": "code",
   "execution_count": null,
   "metadata": {},
   "outputs": [],
   "source": [
    "# For QGL2, use a QRegister, not a QGL Qubit\n",
    "q = QRegister(1)"
   ]
  },
  {
   "cell_type": "markdown",
   "metadata": {
    "collapsed": true
   },
   "source": [
    "## Compile to QGL1"
   ]
  },
  {
   "cell_type": "markdown",
   "metadata": {
    "collapsed": true
   },
   "source": [
    "### To turn on debug output, uncomment the next 4 lines"
   ]
  },
  {
   "cell_type": "code",
   "execution_count": null,
   "metadata": {},
   "outputs": [],
   "source": [
    "#from pyqgl2.ast_util import NodeError\n",
    "#from pyqgl2.debugmsg import DebugMsg\n",
    "\n",
    "#DebugMsg.set_level(1)\n",
    "#NodeError.MUTE_ERR_LEVEL = NodeError.NODE_ERROR_NONE"
   ]
  },
  {
   "cell_type": "code",
   "execution_count": null,
   "metadata": {},
   "outputs": [],
   "source": [
    "# Insert proper path to QGL2 source and name of qgl2main if not so marked\n",
    "# Here we compile the named function in the named file from QGL2 to QGL1 and return the new function"
   ]
  },
  {
   "cell_type": "code",
   "execution_count": null,
   "metadata": {
    "scrolled": false
   },
   "outputs": [],
   "source": [
    "qgl1MainFunc = compile_function(\"../src/python/qgl2/basic_sequences/AllXY.py\", \"AllXY\", (q,))"
   ]
  },
  {
   "cell_type": "markdown",
   "metadata": {},
   "source": [
    "## Generate pulse sequences"
   ]
  },
  {
   "cell_type": "code",
   "execution_count": null,
   "metadata": {},
   "outputs": [],
   "source": [
    "# Now run the QGL1 function, producing a list of sequences\n",
    "seqs = qgl1MainFunc()"
   ]
  },
  {
   "cell_type": "markdown",
   "metadata": {
    "collapsed": true
   },
   "source": [
    "## Optionally compile to machine instructions"
   ]
  },
  {
   "cell_type": "code",
   "execution_count": null,
   "metadata": {
    "scrolled": true,
    "slideshow": {
     "slide_type": "-"
    }
   },
   "outputs": [],
   "source": [
    "if toHW:\n",
    "    from IPython.display import display\n",
    "    metaFileName = qgl2_compile_to_hardware(seqs, \"AllXY/AllXY\")\n",
    "    print(f\"Generated sequence details in '{metaFileName}'\")\n",
    "    # Plot the sequences\n",
    "    p = plot_pulse_files(metaFileName)\n",
    "    # Explicitly display the graph which fails to auto-draw in some cases\n",
    "    display(p)\n",
    "else:\n",
    "    from QGL.Scheduler import schedule\n",
    "    from IPython.lib.pretty import pretty\n",
    "    print(pretty(schedule(seqs)))"
   ]
  },
  {
   "cell_type": "code",
   "execution_count": null,
   "metadata": {},
   "outputs": [],
   "source": []
  }
 ],
 "metadata": {
  "kernelspec": {
   "display_name": "Python 3",
   "language": "python",
   "name": "python3"
  },
  "language_info": {
   "codemirror_mode": {
    "name": "ipython",
    "version": 3
   },
   "file_extension": ".py",
   "mimetype": "text/x-python",
   "name": "python",
   "nbconvert_exporter": "python",
   "pygments_lexer": "ipython3",
   "version": "3.7.3"
  }
 },
 "nbformat": 4,
 "nbformat_minor": 1
}
