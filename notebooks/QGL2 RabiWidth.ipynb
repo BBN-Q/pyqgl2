{
 "cells": [
  {
   "cell_type": "markdown",
   "metadata": {
    "collapsed": true
   },
   "source": [
    "# Compiling a QGL2 RabiWidth and plotting the output"
   ]
  },
  {
   "cell_type": "code",
   "execution_count": null,
   "metadata": {
    "collapsed": true
   },
   "outputs": [],
   "source": [
    "# Using phase=0, amp=0, shapeFun=tanh, length: 0 to 5e-6 in 11 steps"
   ]
  },
  {
   "cell_type": "markdown",
   "metadata": {},
   "source": [
    "## imports"
   ]
  },
  {
   "cell_type": "code",
   "execution_count": null,
   "metadata": {
    "collapsed": true
   },
   "outputs": [],
   "source": [
    "from QGL.Plotting import output_notebook\n",
    "from QGL.PulseSequencePlotter import plot_pulse_files\n",
    "from QGL.ChannelLibrary import QubitFactory\n",
    "from pyqgl2.main import compile_function, qgl2_compile_to_hardware"
   ]
  },
  {
   "cell_type": "code",
   "execution_count": null,
   "metadata": {
    "collapsed": false
   },
   "outputs": [],
   "source": [
    "output_notebook()"
   ]
  },
  {
   "cell_type": "markdown",
   "metadata": {},
   "source": [
    "## Compile QGL2 to QGL1"
   ]
  },
  {
   "cell_type": "code",
   "execution_count": null,
   "metadata": {
    "collapsed": false
   },
   "outputs": [],
   "source": [
    "# Insert proper path to QGL2 source and name of qgl2main if not so marked\n",
    "# Here we compile the named function in the named file from QGL2 to QGL1 and return the new function\n",
    "# True argument means save compiled QGL1 to file\n",
    "qgl1MainFunc = compile_function(\"../src/python/qgl2/basic_sequences/RabiMin.py\", \"doRabiWidth\", True)"
   ]
  },
  {
   "cell_type": "markdown",
   "metadata": {},
   "source": [
    "## Generate pulse sequences"
   ]
  },
  {
   "cell_type": "code",
   "execution_count": null,
   "metadata": {
    "collapsed": false
   },
   "outputs": [],
   "source": [
    "# Now run the QGL1 function, producing a list of sequences\n",
    "# Supply name of qubit from channel library, or omit to use a default\n",
    "seqs = qgl1MainFunc(q=QubitFactory('q1'))"
   ]
  },
  {
   "cell_type": "markdown",
   "metadata": {},
   "source": [
    "## Compile to machine instructions"
   ]
  },
  {
   "cell_type": "code",
   "execution_count": null,
   "metadata": {
    "collapsed": false
   },
   "outputs": [],
   "source": [
    "fileNames = qgl2_compile_to_hardware(seqs, \"Rabi/Rabi\")\n",
    "print(fileNames)"
   ]
  },
  {
   "cell_type": "markdown",
   "metadata": {
    "collapsed": true
   },
   "source": [
    "## Plot the sequences"
   ]
  },
  {
   "cell_type": "code",
   "execution_count": null,
   "metadata": {
    "collapsed": false
   },
   "outputs": [],
   "source": [
    "plot_pulse_files(fileNames)"
   ]
  }
 ],
 "metadata": {
  "kernelspec": {
   "display_name": "Python 3",
   "language": "python",
   "name": "python3"
  },
  "language_info": {
   "codemirror_mode": {
    "name": "ipython",
    "version": 3
   },
   "file_extension": ".py",
   "mimetype": "text/x-python",
   "name": "python",
   "nbconvert_exporter": "python",
   "pygments_lexer": "ipython3",
   "version": "3.5.1"
  }
 },
 "nbformat": 4,
 "nbformat_minor": 0
}
